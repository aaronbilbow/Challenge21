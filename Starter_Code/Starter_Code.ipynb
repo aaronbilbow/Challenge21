{
  "cells": [
    {
      "cell_type": "markdown",
      "metadata": {
        "id": "wcRRvlhd6n3B"
      },
      "source": [
        "## Preprocessing"
      ]
    },
    {
      "cell_type": "code",
      "execution_count": 1,
      "metadata": {
        "id": "jEgXNntF6n3E",
        "outputId": "09198e2e-f819-49ea-e147-3cbc3637b352",
        "colab": {
          "base_uri": "https://localhost:8080/",
          "height": 206
        }
      },
      "outputs": [
        {
          "output_type": "execute_result",
          "data": {
            "text/plain": [
              "        EIN                                      NAME APPLICATION_TYPE  \\\n",
              "0  10520599              BLUE KNIGHTS MOTORCYCLE CLUB              T10   \n",
              "1  10531628    AMERICAN CHESAPEAKE CLUB CHARITABLE TR               T3   \n",
              "2  10547893        ST CLOUD PROFESSIONAL FIREFIGHTERS               T5   \n",
              "3  10553066            SOUTHSIDE ATHLETIC ASSOCIATION               T3   \n",
              "4  10556103  GENETIC RESEARCH INSTITUTE OF THE DESERT               T3   \n",
              "\n",
              "        AFFILIATION CLASSIFICATION      USE_CASE  ORGANIZATION  STATUS  \\\n",
              "0       Independent          C1000    ProductDev   Association       1   \n",
              "1       Independent          C2000  Preservation  Co-operative       1   \n",
              "2  CompanySponsored          C3000    ProductDev   Association       1   \n",
              "3  CompanySponsored          C2000  Preservation         Trust       1   \n",
              "4       Independent          C1000     Heathcare         Trust       1   \n",
              "\n",
              "      INCOME_AMT SPECIAL_CONSIDERATIONS  ASK_AMT  IS_SUCCESSFUL  \n",
              "0              0                      N     5000              1  \n",
              "1         1-9999                      N   108590              1  \n",
              "2              0                      N     5000              0  \n",
              "3    10000-24999                      N     6692              1  \n",
              "4  100000-499999                      N   142590              1  "
            ],
            "text/html": [
              "\n",
              "  <div id=\"df-e778cb68-b767-4b7b-a6ec-68aa4e674502\" class=\"colab-df-container\">\n",
              "    <div>\n",
              "<style scoped>\n",
              "    .dataframe tbody tr th:only-of-type {\n",
              "        vertical-align: middle;\n",
              "    }\n",
              "\n",
              "    .dataframe tbody tr th {\n",
              "        vertical-align: top;\n",
              "    }\n",
              "\n",
              "    .dataframe thead th {\n",
              "        text-align: right;\n",
              "    }\n",
              "</style>\n",
              "<table border=\"1\" class=\"dataframe\">\n",
              "  <thead>\n",
              "    <tr style=\"text-align: right;\">\n",
              "      <th></th>\n",
              "      <th>EIN</th>\n",
              "      <th>NAME</th>\n",
              "      <th>APPLICATION_TYPE</th>\n",
              "      <th>AFFILIATION</th>\n",
              "      <th>CLASSIFICATION</th>\n",
              "      <th>USE_CASE</th>\n",
              "      <th>ORGANIZATION</th>\n",
              "      <th>STATUS</th>\n",
              "      <th>INCOME_AMT</th>\n",
              "      <th>SPECIAL_CONSIDERATIONS</th>\n",
              "      <th>ASK_AMT</th>\n",
              "      <th>IS_SUCCESSFUL</th>\n",
              "    </tr>\n",
              "  </thead>\n",
              "  <tbody>\n",
              "    <tr>\n",
              "      <th>0</th>\n",
              "      <td>10520599</td>\n",
              "      <td>BLUE KNIGHTS MOTORCYCLE CLUB</td>\n",
              "      <td>T10</td>\n",
              "      <td>Independent</td>\n",
              "      <td>C1000</td>\n",
              "      <td>ProductDev</td>\n",
              "      <td>Association</td>\n",
              "      <td>1</td>\n",
              "      <td>0</td>\n",
              "      <td>N</td>\n",
              "      <td>5000</td>\n",
              "      <td>1</td>\n",
              "    </tr>\n",
              "    <tr>\n",
              "      <th>1</th>\n",
              "      <td>10531628</td>\n",
              "      <td>AMERICAN CHESAPEAKE CLUB CHARITABLE TR</td>\n",
              "      <td>T3</td>\n",
              "      <td>Independent</td>\n",
              "      <td>C2000</td>\n",
              "      <td>Preservation</td>\n",
              "      <td>Co-operative</td>\n",
              "      <td>1</td>\n",
              "      <td>1-9999</td>\n",
              "      <td>N</td>\n",
              "      <td>108590</td>\n",
              "      <td>1</td>\n",
              "    </tr>\n",
              "    <tr>\n",
              "      <th>2</th>\n",
              "      <td>10547893</td>\n",
              "      <td>ST CLOUD PROFESSIONAL FIREFIGHTERS</td>\n",
              "      <td>T5</td>\n",
              "      <td>CompanySponsored</td>\n",
              "      <td>C3000</td>\n",
              "      <td>ProductDev</td>\n",
              "      <td>Association</td>\n",
              "      <td>1</td>\n",
              "      <td>0</td>\n",
              "      <td>N</td>\n",
              "      <td>5000</td>\n",
              "      <td>0</td>\n",
              "    </tr>\n",
              "    <tr>\n",
              "      <th>3</th>\n",
              "      <td>10553066</td>\n",
              "      <td>SOUTHSIDE ATHLETIC ASSOCIATION</td>\n",
              "      <td>T3</td>\n",
              "      <td>CompanySponsored</td>\n",
              "      <td>C2000</td>\n",
              "      <td>Preservation</td>\n",
              "      <td>Trust</td>\n",
              "      <td>1</td>\n",
              "      <td>10000-24999</td>\n",
              "      <td>N</td>\n",
              "      <td>6692</td>\n",
              "      <td>1</td>\n",
              "    </tr>\n",
              "    <tr>\n",
              "      <th>4</th>\n",
              "      <td>10556103</td>\n",
              "      <td>GENETIC RESEARCH INSTITUTE OF THE DESERT</td>\n",
              "      <td>T3</td>\n",
              "      <td>Independent</td>\n",
              "      <td>C1000</td>\n",
              "      <td>Heathcare</td>\n",
              "      <td>Trust</td>\n",
              "      <td>1</td>\n",
              "      <td>100000-499999</td>\n",
              "      <td>N</td>\n",
              "      <td>142590</td>\n",
              "      <td>1</td>\n",
              "    </tr>\n",
              "  </tbody>\n",
              "</table>\n",
              "</div>\n",
              "    <div class=\"colab-df-buttons\">\n",
              "\n",
              "  <div class=\"colab-df-container\">\n",
              "    <button class=\"colab-df-convert\" onclick=\"convertToInteractive('df-e778cb68-b767-4b7b-a6ec-68aa4e674502')\"\n",
              "            title=\"Convert this dataframe to an interactive table.\"\n",
              "            style=\"display:none;\">\n",
              "\n",
              "  <svg xmlns=\"http://www.w3.org/2000/svg\" height=\"24px\" viewBox=\"0 -960 960 960\">\n",
              "    <path d=\"M120-120v-720h720v720H120Zm60-500h600v-160H180v160Zm220 220h160v-160H400v160Zm0 220h160v-160H400v160ZM180-400h160v-160H180v160Zm440 0h160v-160H620v160ZM180-180h160v-160H180v160Zm440 0h160v-160H620v160Z\"/>\n",
              "  </svg>\n",
              "    </button>\n",
              "\n",
              "  <style>\n",
              "    .colab-df-container {\n",
              "      display:flex;\n",
              "      gap: 12px;\n",
              "    }\n",
              "\n",
              "    .colab-df-convert {\n",
              "      background-color: #E8F0FE;\n",
              "      border: none;\n",
              "      border-radius: 50%;\n",
              "      cursor: pointer;\n",
              "      display: none;\n",
              "      fill: #1967D2;\n",
              "      height: 32px;\n",
              "      padding: 0 0 0 0;\n",
              "      width: 32px;\n",
              "    }\n",
              "\n",
              "    .colab-df-convert:hover {\n",
              "      background-color: #E2EBFA;\n",
              "      box-shadow: 0px 1px 2px rgba(60, 64, 67, 0.3), 0px 1px 3px 1px rgba(60, 64, 67, 0.15);\n",
              "      fill: #174EA6;\n",
              "    }\n",
              "\n",
              "    .colab-df-buttons div {\n",
              "      margin-bottom: 4px;\n",
              "    }\n",
              "\n",
              "    [theme=dark] .colab-df-convert {\n",
              "      background-color: #3B4455;\n",
              "      fill: #D2E3FC;\n",
              "    }\n",
              "\n",
              "    [theme=dark] .colab-df-convert:hover {\n",
              "      background-color: #434B5C;\n",
              "      box-shadow: 0px 1px 3px 1px rgba(0, 0, 0, 0.15);\n",
              "      filter: drop-shadow(0px 1px 2px rgba(0, 0, 0, 0.3));\n",
              "      fill: #FFFFFF;\n",
              "    }\n",
              "  </style>\n",
              "\n",
              "    <script>\n",
              "      const buttonEl =\n",
              "        document.querySelector('#df-e778cb68-b767-4b7b-a6ec-68aa4e674502 button.colab-df-convert');\n",
              "      buttonEl.style.display =\n",
              "        google.colab.kernel.accessAllowed ? 'block' : 'none';\n",
              "\n",
              "      async function convertToInteractive(key) {\n",
              "        const element = document.querySelector('#df-e778cb68-b767-4b7b-a6ec-68aa4e674502');\n",
              "        const dataTable =\n",
              "          await google.colab.kernel.invokeFunction('convertToInteractive',\n",
              "                                                    [key], {});\n",
              "        if (!dataTable) return;\n",
              "\n",
              "        const docLinkHtml = 'Like what you see? Visit the ' +\n",
              "          '<a target=\"_blank\" href=https://colab.research.google.com/notebooks/data_table.ipynb>data table notebook</a>'\n",
              "          + ' to learn more about interactive tables.';\n",
              "        element.innerHTML = '';\n",
              "        dataTable['output_type'] = 'display_data';\n",
              "        await google.colab.output.renderOutput(dataTable, element);\n",
              "        const docLink = document.createElement('div');\n",
              "        docLink.innerHTML = docLinkHtml;\n",
              "        element.appendChild(docLink);\n",
              "      }\n",
              "    </script>\n",
              "  </div>\n",
              "\n",
              "\n",
              "<div id=\"df-a3b10629-cbc9-4da6-a6ba-1c12c3d5918f\">\n",
              "  <button class=\"colab-df-quickchart\" onclick=\"quickchart('df-a3b10629-cbc9-4da6-a6ba-1c12c3d5918f')\"\n",
              "            title=\"Suggest charts\"\n",
              "            style=\"display:none;\">\n",
              "\n",
              "<svg xmlns=\"http://www.w3.org/2000/svg\" height=\"24px\"viewBox=\"0 0 24 24\"\n",
              "     width=\"24px\">\n",
              "    <g>\n",
              "        <path d=\"M19 3H5c-1.1 0-2 .9-2 2v14c0 1.1.9 2 2 2h14c1.1 0 2-.9 2-2V5c0-1.1-.9-2-2-2zM9 17H7v-7h2v7zm4 0h-2V7h2v10zm4 0h-2v-4h2v4z\"/>\n",
              "    </g>\n",
              "</svg>\n",
              "  </button>\n",
              "\n",
              "<style>\n",
              "  .colab-df-quickchart {\n",
              "      --bg-color: #E8F0FE;\n",
              "      --fill-color: #1967D2;\n",
              "      --hover-bg-color: #E2EBFA;\n",
              "      --hover-fill-color: #174EA6;\n",
              "      --disabled-fill-color: #AAA;\n",
              "      --disabled-bg-color: #DDD;\n",
              "  }\n",
              "\n",
              "  [theme=dark] .colab-df-quickchart {\n",
              "      --bg-color: #3B4455;\n",
              "      --fill-color: #D2E3FC;\n",
              "      --hover-bg-color: #434B5C;\n",
              "      --hover-fill-color: #FFFFFF;\n",
              "      --disabled-bg-color: #3B4455;\n",
              "      --disabled-fill-color: #666;\n",
              "  }\n",
              "\n",
              "  .colab-df-quickchart {\n",
              "    background-color: var(--bg-color);\n",
              "    border: none;\n",
              "    border-radius: 50%;\n",
              "    cursor: pointer;\n",
              "    display: none;\n",
              "    fill: var(--fill-color);\n",
              "    height: 32px;\n",
              "    padding: 0;\n",
              "    width: 32px;\n",
              "  }\n",
              "\n",
              "  .colab-df-quickchart:hover {\n",
              "    background-color: var(--hover-bg-color);\n",
              "    box-shadow: 0 1px 2px rgba(60, 64, 67, 0.3), 0 1px 3px 1px rgba(60, 64, 67, 0.15);\n",
              "    fill: var(--button-hover-fill-color);\n",
              "  }\n",
              "\n",
              "  .colab-df-quickchart-complete:disabled,\n",
              "  .colab-df-quickchart-complete:disabled:hover {\n",
              "    background-color: var(--disabled-bg-color);\n",
              "    fill: var(--disabled-fill-color);\n",
              "    box-shadow: none;\n",
              "  }\n",
              "\n",
              "  .colab-df-spinner {\n",
              "    border: 2px solid var(--fill-color);\n",
              "    border-color: transparent;\n",
              "    border-bottom-color: var(--fill-color);\n",
              "    animation:\n",
              "      spin 1s steps(1) infinite;\n",
              "  }\n",
              "\n",
              "  @keyframes spin {\n",
              "    0% {\n",
              "      border-color: transparent;\n",
              "      border-bottom-color: var(--fill-color);\n",
              "      border-left-color: var(--fill-color);\n",
              "    }\n",
              "    20% {\n",
              "      border-color: transparent;\n",
              "      border-left-color: var(--fill-color);\n",
              "      border-top-color: var(--fill-color);\n",
              "    }\n",
              "    30% {\n",
              "      border-color: transparent;\n",
              "      border-left-color: var(--fill-color);\n",
              "      border-top-color: var(--fill-color);\n",
              "      border-right-color: var(--fill-color);\n",
              "    }\n",
              "    40% {\n",
              "      border-color: transparent;\n",
              "      border-right-color: var(--fill-color);\n",
              "      border-top-color: var(--fill-color);\n",
              "    }\n",
              "    60% {\n",
              "      border-color: transparent;\n",
              "      border-right-color: var(--fill-color);\n",
              "    }\n",
              "    80% {\n",
              "      border-color: transparent;\n",
              "      border-right-color: var(--fill-color);\n",
              "      border-bottom-color: var(--fill-color);\n",
              "    }\n",
              "    90% {\n",
              "      border-color: transparent;\n",
              "      border-bottom-color: var(--fill-color);\n",
              "    }\n",
              "  }\n",
              "</style>\n",
              "\n",
              "  <script>\n",
              "    async function quickchart(key) {\n",
              "      const quickchartButtonEl =\n",
              "        document.querySelector('#' + key + ' button');\n",
              "      quickchartButtonEl.disabled = true;  // To prevent multiple clicks.\n",
              "      quickchartButtonEl.classList.add('colab-df-spinner');\n",
              "      try {\n",
              "        const charts = await google.colab.kernel.invokeFunction(\n",
              "            'suggestCharts', [key], {});\n",
              "      } catch (error) {\n",
              "        console.error('Error during call to suggestCharts:', error);\n",
              "      }\n",
              "      quickchartButtonEl.classList.remove('colab-df-spinner');\n",
              "      quickchartButtonEl.classList.add('colab-df-quickchart-complete');\n",
              "    }\n",
              "    (() => {\n",
              "      let quickchartButtonEl =\n",
              "        document.querySelector('#df-a3b10629-cbc9-4da6-a6ba-1c12c3d5918f button');\n",
              "      quickchartButtonEl.style.display =\n",
              "        google.colab.kernel.accessAllowed ? 'block' : 'none';\n",
              "    })();\n",
              "  </script>\n",
              "</div>\n",
              "    </div>\n",
              "  </div>\n"
            ]
          },
          "metadata": {},
          "execution_count": 1
        }
      ],
      "source": [
        "# Import our dependencies\n",
        "from sklearn.model_selection import train_test_split\n",
        "from sklearn.preprocessing import StandardScaler\n",
        "import pandas as pd\n",
        "import tensorflow as tf\n",
        "\n",
        "#  Import and read the charity_data.csv.\n",
        "import pandas as pd\n",
        "application_df = pd.read_csv(\"https://static.bc-edx.com/data/dla-1-2/m21/lms/starter/charity_data.csv\")\n",
        "application_df.head()"
      ]
    },
    {
      "cell_type": "code",
      "execution_count": 2,
      "metadata": {
        "id": "SxUieQcp6n3G"
      },
      "outputs": [],
      "source": [
        "# Drop the non-beneficial ID columns, 'EIN' and 'NAME'.\n",
        "application_df = application_df.drop([\"EIN\", \"NAME\"], axis=1)"
      ]
    },
    {
      "cell_type": "code",
      "execution_count": null,
      "metadata": {
        "id": "1meICAti6n3G",
        "outputId": "6542a346-e143-4597-86d7-555d64a7456f"
      },
      "outputs": [
        {
          "data": {
            "text/plain": [
              "APPLICATION_TYPE            17\n",
              "AFFILIATION                  6\n",
              "CLASSIFICATION              71\n",
              "USE_CASE                     5\n",
              "ORGANIZATION                 4\n",
              "STATUS                       2\n",
              "INCOME_AMT                   9\n",
              "SPECIAL_CONSIDERATIONS       2\n",
              "ASK_AMT                   8747\n",
              "IS_SUCCESSFUL                2\n",
              "dtype: int64"
            ]
          },
          "execution_count": 4,
          "metadata": {},
          "output_type": "execute_result"
        }
      ],
      "source": [
        "# Determine the number of unique values in each column.\n",
        "#  YOUR CODE GOES HERE"
      ]
    },
    {
      "cell_type": "code",
      "source": [
        "# Determine the number of unique values in each column\n",
        "unique_values = application_df.nunique()\n",
        "\n",
        "# Display the result\n",
        "print(unique_values)"
      ],
      "metadata": {
        "id": "p-4FJT677oqd",
        "outputId": "ee69c524-c628-45d7-ccc4-42d1c2d490c2",
        "colab": {
          "base_uri": "https://localhost:8080/"
        }
      },
      "execution_count": 3,
      "outputs": [
        {
          "output_type": "stream",
          "name": "stdout",
          "text": [
            "APPLICATION_TYPE            17\n",
            "AFFILIATION                  6\n",
            "CLASSIFICATION              71\n",
            "USE_CASE                     5\n",
            "ORGANIZATION                 4\n",
            "STATUS                       2\n",
            "INCOME_AMT                   9\n",
            "SPECIAL_CONSIDERATIONS       2\n",
            "ASK_AMT                   8747\n",
            "IS_SUCCESSFUL                2\n",
            "dtype: int64\n"
          ]
        }
      ]
    },
    {
      "cell_type": "code",
      "execution_count": null,
      "metadata": {
        "id": "SyvQRuxU6n3H",
        "outputId": "45647060-e10b-46bc-ec9d-0ade9d58a4a8"
      },
      "outputs": [
        {
          "data": {
            "text/plain": [
              "T3     27037\n",
              "T4      1542\n",
              "T6      1216\n",
              "T5      1173\n",
              "T19     1065\n",
              "T8       737\n",
              "T7       725\n",
              "T10      528\n",
              "T9       156\n",
              "T13       66\n",
              "T12       27\n",
              "T2        16\n",
              "T14        3\n",
              "T25        3\n",
              "T15        2\n",
              "T29        2\n",
              "T17        1\n",
              "Name: APPLICATION_TYPE, dtype: int64"
            ]
          },
          "execution_count": 6,
          "metadata": {},
          "output_type": "execute_result"
        }
      ],
      "source": [
        "# Look at APPLICATION_TYPE value counts for binning\n",
        "#  YOUR CODE GOES HERE"
      ]
    },
    {
      "cell_type": "code",
      "source": [
        "# Display value counts for APPLICATION_TYPE\n",
        "application_type_counts = application_df['APPLICATION_TYPE'].value_counts()\n",
        "print(application_type_counts)\n"
      ],
      "metadata": {
        "id": "5ORgQ32u766M",
        "outputId": "15c58024-5b97-4477-c8f8-916d23f7006f",
        "colab": {
          "base_uri": "https://localhost:8080/"
        }
      },
      "execution_count": 4,
      "outputs": [
        {
          "output_type": "stream",
          "name": "stdout",
          "text": [
            "T3     27037\n",
            "T4      1542\n",
            "T6      1216\n",
            "T5      1173\n",
            "T19     1065\n",
            "T8       737\n",
            "T7       725\n",
            "T10      528\n",
            "T9       156\n",
            "T13       66\n",
            "T12       27\n",
            "T2        16\n",
            "T25        3\n",
            "T14        3\n",
            "T29        2\n",
            "T15        2\n",
            "T17        1\n",
            "Name: APPLICATION_TYPE, dtype: int64\n"
          ]
        }
      ]
    },
    {
      "cell_type": "code",
      "execution_count": null,
      "metadata": {
        "id": "d7eI3frZ6n3H",
        "outputId": "5e11c1eb-9308-4beb-fdd0-3a686dec039d"
      },
      "outputs": [
        {
          "data": {
            "text/plain": [
              "T3       27037\n",
              "T4        1542\n",
              "T6        1216\n",
              "T5        1173\n",
              "T19       1065\n",
              "T8         737\n",
              "T7         725\n",
              "T10        528\n",
              "Other      276\n",
              "Name: APPLICATION_TYPE, dtype: int64"
            ]
          },
          "execution_count": 15,
          "metadata": {},
          "output_type": "execute_result"
        }
      ],
      "source": [
        "# Choose a cutoff value and create a list of application types to be replaced\n",
        "# use the variable name `application_types_to_replace`\n",
        "#  YOUR CODE GOES HERE\n",
        "\n",
        "# Replace in dataframe\n",
        "for app in application_types_to_replace:\n",
        "    application_df['APPLICATION_TYPE'] = application_df['APPLICATION_TYPE'].replace(app,\"Other\")\n",
        "\n",
        "# Check to make sure binning was successful\n",
        "application_df['APPLICATION_TYPE'].value_counts()"
      ]
    },
    {
      "cell_type": "code",
      "source": [
        "# Choose a cutoff value\n",
        "cutoff_value = 500\n",
        "\n",
        "# Identify application types to be replaced based on the cutoff\n",
        "application_type_counts = application_df['APPLICATION_TYPE'].value_counts()\n",
        "types_to_replace = application_type_counts[application_type_counts < cutoff_value].index.tolist()\n",
        "\n",
        "# Create the list of application types to be replaced\n",
        "application_types_to_replace = types_to_replace\n",
        "\n",
        "# Replace in dataframe\n",
        "for app in application_types_to_replace:\n",
        "    application_df['APPLICATION_TYPE'] = application_df['APPLICATION_TYPE'].replace(app, \"Other\")\n",
        "\n",
        "# Check the value counts to ensure binning was successful\n",
        "print(application_df['APPLICATION_TYPE'].value_counts())\n"
      ],
      "metadata": {
        "id": "hEgw4KIK8YT8",
        "outputId": "c01d8936-9242-40ea-cd82-233436b7e641",
        "colab": {
          "base_uri": "https://localhost:8080/"
        }
      },
      "execution_count": 5,
      "outputs": [
        {
          "output_type": "stream",
          "name": "stdout",
          "text": [
            "T3       27037\n",
            "T4        1542\n",
            "T6        1216\n",
            "T5        1173\n",
            "T19       1065\n",
            "T8         737\n",
            "T7         725\n",
            "T10        528\n",
            "Other      276\n",
            "Name: APPLICATION_TYPE, dtype: int64\n"
          ]
        }
      ]
    },
    {
      "cell_type": "code",
      "execution_count": null,
      "metadata": {
        "id": "17UGF1Ca6n3I",
        "outputId": "b742e5d4-a7ac-4495-fa31-fd253d7edb53"
      },
      "outputs": [
        {
          "data": {
            "text/plain": [
              "C1000    17326\n",
              "C2000     6074\n",
              "C1200     4837\n",
              "C3000     1918\n",
              "C2100     1883\n",
              "         ...  \n",
              "C1370        1\n",
              "C4120        1\n",
              "C2600        1\n",
              "C2190        1\n",
              "C6100        1\n",
              "Name: CLASSIFICATION, Length: 71, dtype: int64"
            ]
          },
          "execution_count": 16,
          "metadata": {},
          "output_type": "execute_result"
        }
      ],
      "source": [
        "# Look at CLASSIFICATION value counts for binning\n",
        "#  YOUR CODE GOES HERE"
      ]
    },
    {
      "cell_type": "code",
      "source": [
        "# Display value counts for CLASSIFICATION\n",
        "classification_counts = application_df['CLASSIFICATION'].value_counts()\n",
        "print(classification_counts)\n"
      ],
      "metadata": {
        "id": "ZiFlsTMx8u1D",
        "outputId": "617b3019-b117-41fb-f4b6-e0aa787e1c90",
        "colab": {
          "base_uri": "https://localhost:8080/"
        }
      },
      "execution_count": 6,
      "outputs": [
        {
          "output_type": "stream",
          "name": "stdout",
          "text": [
            "C1000    17326\n",
            "C2000     6074\n",
            "C1200     4837\n",
            "C3000     1918\n",
            "C2100     1883\n",
            "         ...  \n",
            "C4120        1\n",
            "C8210        1\n",
            "C2561        1\n",
            "C4500        1\n",
            "C2150        1\n",
            "Name: CLASSIFICATION, Length: 71, dtype: int64\n"
          ]
        }
      ]
    },
    {
      "cell_type": "code",
      "execution_count": null,
      "metadata": {
        "id": "t6BeF5gL6n3I",
        "outputId": "284cd8ed-6e27-4406-ddcb-2be0050da665"
      },
      "outputs": [
        {
          "data": {
            "text/plain": [
              "C1000    17326\n",
              "C2000     6074\n",
              "C1200     4837\n",
              "C3000     1918\n",
              "C2100     1883\n",
              "C7000      777\n",
              "C1700      287\n",
              "C4000      194\n",
              "C5000      116\n",
              "C1270      114\n",
              "C2700      104\n",
              "C2800       95\n",
              "C7100       75\n",
              "C1300       58\n",
              "C1280       50\n",
              "C1230       36\n",
              "C1400       34\n",
              "C7200       32\n",
              "C2300       32\n",
              "C1240       30\n",
              "C8000       20\n",
              "C7120       18\n",
              "C1500       16\n",
              "C1800       15\n",
              "C6000       15\n",
              "C1250       14\n",
              "C8200       11\n",
              "C1278       10\n",
              "C1238       10\n",
              "C1237        9\n",
              "C1235        9\n",
              "C7210        7\n",
              "C1720        6\n",
              "C2400        6\n",
              "C4100        6\n",
              "C1257        5\n",
              "C1600        5\n",
              "C0           3\n",
              "C1260        3\n",
              "C2710        3\n",
              "C1234        2\n",
              "C1246        2\n",
              "C1267        2\n",
              "C3200        2\n",
              "C1256        2\n",
              "Name: CLASSIFICATION, dtype: int64"
            ]
          },
          "execution_count": 25,
          "metadata": {},
          "output_type": "execute_result"
        }
      ],
      "source": [
        "# You may find it helpful to look at CLASSIFICATION value counts >1\n",
        "#  YOUR CODE GOES HERE"
      ]
    },
    {
      "cell_type": "code",
      "source": [
        "# Display value counts for CLASSIFICATION where count is greater than 1\n",
        "classification_counts = application_df['CLASSIFICATION'].value_counts()\n",
        "classification_counts_greater_than_1 = classification_counts[classification_counts > 1]\n",
        "print(classification_counts_greater_than_1)\n"
      ],
      "metadata": {
        "id": "LGTUmwK582VL",
        "outputId": "bc79df30-49a3-467e-94a7-3d6f4dcc0e67",
        "colab": {
          "base_uri": "https://localhost:8080/"
        }
      },
      "execution_count": 7,
      "outputs": [
        {
          "output_type": "stream",
          "name": "stdout",
          "text": [
            "C1000    17326\n",
            "C2000     6074\n",
            "C1200     4837\n",
            "C3000     1918\n",
            "C2100     1883\n",
            "C7000      777\n",
            "C1700      287\n",
            "C4000      194\n",
            "C5000      116\n",
            "C1270      114\n",
            "C2700      104\n",
            "C2800       95\n",
            "C7100       75\n",
            "C1300       58\n",
            "C1280       50\n",
            "C1230       36\n",
            "C1400       34\n",
            "C7200       32\n",
            "C2300       32\n",
            "C1240       30\n",
            "C8000       20\n",
            "C7120       18\n",
            "C1500       16\n",
            "C1800       15\n",
            "C6000       15\n",
            "C1250       14\n",
            "C8200       11\n",
            "C1238       10\n",
            "C1278       10\n",
            "C1235        9\n",
            "C1237        9\n",
            "C7210        7\n",
            "C2400        6\n",
            "C1720        6\n",
            "C4100        6\n",
            "C1257        5\n",
            "C1600        5\n",
            "C1260        3\n",
            "C2710        3\n",
            "C0           3\n",
            "C3200        2\n",
            "C1234        2\n",
            "C1246        2\n",
            "C1267        2\n",
            "C1256        2\n",
            "Name: CLASSIFICATION, dtype: int64\n"
          ]
        }
      ]
    },
    {
      "cell_type": "code",
      "execution_count": null,
      "metadata": {
        "id": "1Mv33sSH6n3I",
        "outputId": "257032b4-569a-43eb-a266-cc08f897554d"
      },
      "outputs": [
        {
          "data": {
            "text/plain": [
              "C1000    17326\n",
              "C2000     6074\n",
              "C1200     4837\n",
              "Other     2261\n",
              "C3000     1918\n",
              "C2100     1883\n",
              "Name: CLASSIFICATION, dtype: int64"
            ]
          },
          "execution_count": 27,
          "metadata": {},
          "output_type": "execute_result"
        }
      ],
      "source": [
        "# Choose a cutoff value and create a list of classifications to be replaced\n",
        "# use the variable name `classifications_to_replace`\n",
        "#  YOUR CODE GOES HERE\n",
        "\n",
        "# Replace in dataframe\n",
        "for cls in classifications_to_replace:\n",
        "    application_df['CLASSIFICATION'] = application_df['CLASSIFICATION'].replace(cls,\"Other\")\n",
        "\n",
        "# Check to make sure binning was successful\n",
        "application_df['CLASSIFICATION'].value_counts()"
      ]
    },
    {
      "cell_type": "code",
      "source": [
        "# Choose a cutoff value\n",
        "cutoff_value_classification = 1000  # You can adjust this value based on your analysis\n",
        "\n",
        "# Identify classifications to be replaced based on the cutoff\n",
        "classification_counts = application_df['CLASSIFICATION'].value_counts()\n",
        "classifications_to_replace = classification_counts[classification_counts < cutoff_value_classification].index.tolist()\n",
        "\n",
        "# Create the list of classifications to be replaced\n",
        "classifications_to_replace = classifications_to_replace\n",
        "\n",
        "# Replace in dataframe\n",
        "for cls in classifications_to_replace:\n",
        "    application_df['CLASSIFICATION'] = application_df['CLASSIFICATION'].replace(cls, \"Other\")\n",
        "\n",
        "# Check the value counts to ensure binning was successful\n",
        "print(application_df['CLASSIFICATION'].value_counts())\n"
      ],
      "metadata": {
        "id": "S6_j2_s99AND",
        "outputId": "69cd3eab-6453-46a8-b2fd-fbe6b6d0a17d",
        "colab": {
          "base_uri": "https://localhost:8080/"
        }
      },
      "execution_count": 8,
      "outputs": [
        {
          "output_type": "stream",
          "name": "stdout",
          "text": [
            "C1000    17326\n",
            "C2000     6074\n",
            "C1200     4837\n",
            "Other     2261\n",
            "C3000     1918\n",
            "C2100     1883\n",
            "Name: CLASSIFICATION, dtype: int64\n"
          ]
        }
      ]
    },
    {
      "cell_type": "code",
      "execution_count": null,
      "metadata": {
        "id": "B6U-wydX6n3J"
      },
      "outputs": [],
      "source": [
        "# Convert categorical data to numeric with `pd.get_dummies`\n",
        "#  YOUR CODE GOES HERE"
      ]
    },
    {
      "cell_type": "code",
      "source": [
        "# Use pd.get_dummies to convert categorical data to numeric\n",
        "application_df = pd.get_dummies(application_df, columns=[\"APPLICATION_TYPE\", \"AFFILIATION\", \"CLASSIFICATION\", \"USE_CASE\", \"ORGANIZATION\", \"INCOME_AMT\", \"SPECIAL_CONSIDERATIONS\"])\n",
        "\n",
        "# Display the updated dataframe\n",
        "print(application_df.head())\n"
      ],
      "metadata": {
        "id": "znwAhLsv9I6j",
        "outputId": "256ef2db-301d-4615-fc02-4d8377fa8f47",
        "colab": {
          "base_uri": "https://localhost:8080/"
        }
      },
      "execution_count": 9,
      "outputs": [
        {
          "output_type": "stream",
          "name": "stdout",
          "text": [
            "   STATUS  ASK_AMT  IS_SUCCESSFUL  APPLICATION_TYPE_Other  \\\n",
            "0       1     5000              1                       0   \n",
            "1       1   108590              1                       0   \n",
            "2       1     5000              0                       0   \n",
            "3       1     6692              1                       0   \n",
            "4       1   142590              1                       0   \n",
            "\n",
            "   APPLICATION_TYPE_T10  APPLICATION_TYPE_T19  APPLICATION_TYPE_T3  \\\n",
            "0                     1                     0                    0   \n",
            "1                     0                     0                    1   \n",
            "2                     0                     0                    0   \n",
            "3                     0                     0                    1   \n",
            "4                     0                     0                    1   \n",
            "\n",
            "   APPLICATION_TYPE_T4  APPLICATION_TYPE_T5  APPLICATION_TYPE_T6  ...  \\\n",
            "0                    0                    0                    0  ...   \n",
            "1                    0                    0                    0  ...   \n",
            "2                    0                    1                    0  ...   \n",
            "3                    0                    0                    0  ...   \n",
            "4                    0                    0                    0  ...   \n",
            "\n",
            "   INCOME_AMT_1-9999  INCOME_AMT_10000-24999  INCOME_AMT_100000-499999  \\\n",
            "0                  0                       0                         0   \n",
            "1                  1                       0                         0   \n",
            "2                  0                       0                         0   \n",
            "3                  0                       1                         0   \n",
            "4                  0                       0                         1   \n",
            "\n",
            "   INCOME_AMT_10M-50M  INCOME_AMT_1M-5M  INCOME_AMT_25000-99999  \\\n",
            "0                   0                 0                       0   \n",
            "1                   0                 0                       0   \n",
            "2                   0                 0                       0   \n",
            "3                   0                 0                       0   \n",
            "4                   0                 0                       0   \n",
            "\n",
            "   INCOME_AMT_50M+  INCOME_AMT_5M-10M  SPECIAL_CONSIDERATIONS_N  \\\n",
            "0                0                  0                         1   \n",
            "1                0                  0                         1   \n",
            "2                0                  0                         1   \n",
            "3                0                  0                         1   \n",
            "4                0                  0                         1   \n",
            "\n",
            "   SPECIAL_CONSIDERATIONS_Y  \n",
            "0                         0  \n",
            "1                         0  \n",
            "2                         0  \n",
            "3                         0  \n",
            "4                         0  \n",
            "\n",
            "[5 rows x 44 columns]\n"
          ]
        }
      ]
    },
    {
      "cell_type": "code",
      "execution_count": null,
      "metadata": {
        "id": "KGM1Z7V-6n3J"
      },
      "outputs": [],
      "source": [
        "# Split our preprocessed data into our features and target arrays\n",
        "#  YOUR CODE GOES HERE\n",
        "\n",
        "# Split the preprocessed data into a training and testing dataset\n",
        "#  YOUR CODE GOES HERE"
      ]
    },
    {
      "cell_type": "code",
      "source": [
        "# Assuming 'IS_SUCCESSFUL' is your target variable\n",
        "X = application_df.drop(columns=[\"IS_SUCCESSFUL\"])\n",
        "y = application_df[\"IS_SUCCESSFUL\"]\n",
        "\n",
        "# Split the data into training and testing sets\n",
        "X_train, X_test, y_train, y_test = train_test_split(X, y, random_state=42, stratify=y)\n",
        "\n",
        "# Standardize the data\n",
        "scaler = StandardScaler()\n",
        "X_train_scaled = scaler.fit_transform(X_train)\n",
        "X_test_scaled = scaler.transform(X_test)\n",
        "\n",
        "# Verify the shapes of your training and testing sets\n",
        "print(\"X_train shape:\", X_train.shape)\n",
        "print(\"X_test shape:\", X_test.shape)\n",
        "print(\"y_train shape:\", y_train.shape)\n",
        "print(\"y_test shape:\", y_test.shape)\n"
      ],
      "metadata": {
        "id": "0amk68lS9O9L",
        "outputId": "4750de70-48d1-426f-c18f-1bfa2b1f4b80",
        "colab": {
          "base_uri": "https://localhost:8080/"
        }
      },
      "execution_count": 23,
      "outputs": [
        {
          "output_type": "stream",
          "name": "stdout",
          "text": [
            "X_train shape: (25724, 43)\n",
            "X_test shape: (8575, 43)\n",
            "y_train shape: (25724,)\n",
            "y_test shape: (8575,)\n"
          ]
        }
      ]
    },
    {
      "cell_type": "code",
      "execution_count": 24,
      "metadata": {
        "id": "0ILmmy1W6n3K"
      },
      "outputs": [],
      "source": [
        "# Create a StandardScaler instances\n",
        "scaler = StandardScaler()\n",
        "\n",
        "# Fit the StandardScaler\n",
        "X_scaler = scaler.fit(X_train)\n",
        "\n",
        "# Scale the data\n",
        "X_train_scaled = X_scaler.transform(X_train)\n",
        "X_test_scaled = X_scaler.transform(X_test)"
      ]
    },
    {
      "cell_type": "markdown",
      "metadata": {
        "id": "PAtYCLxZ6n3K"
      },
      "source": [
        "## Compile, Train and Evaluate the Model"
      ]
    },
    {
      "cell_type": "code",
      "execution_count": null,
      "metadata": {
        "id": "z7luQkAB6n3L",
        "outputId": "9fab704f-57dc-4e87-aad0-62f2bba44a3c"
      },
      "outputs": [
        {
          "name": "stdout",
          "output_type": "stream",
          "text": [
            "WARNING:tensorflow:From Z:\\Travis\\anaconda3\\lib\\site-packages\\tensorflow\\python\\ops\\init_ops.py:1251: calling VarianceScaling.__init__ (from tensorflow.python.ops.init_ops) with dtype is deprecated and will be removed in a future version.\n",
            "Instructions for updating:\n",
            "Call initializer instance with the dtype argument instead of passing it to the constructor\n",
            "Model: \"sequential\"\n",
            "_________________________________________________________________\n",
            "Layer (type)                 Output Shape              Param #   \n",
            "=================================================================\n",
            "dense (Dense)                (None, 80)                3520      \n",
            "_________________________________________________________________\n",
            "dense_1 (Dense)              (None, 30)                2430      \n",
            "_________________________________________________________________\n",
            "dense_2 (Dense)              (None, 1)                 31        \n",
            "=================================================================\n",
            "Total params: 5,981\n",
            "Trainable params: 5,981\n",
            "Non-trainable params: 0\n",
            "_________________________________________________________________\n"
          ]
        }
      ],
      "source": [
        "# Define the model - deep neural net, i.e., the number of input features and hidden nodes for each layer.\n",
        "#  YOUR CODE GOES HERE\n",
        "\n",
        "nn = tf.keras.models.Sequential()\n",
        "\n",
        "# First hidden layer\n",
        "#  YOUR CODE GOES HERE\n",
        "\n",
        "# Second hidden layer\n",
        "#  YOUR CODE GOES HERE\n",
        "\n",
        "# Output layer\n",
        "#  YOUR CODE GOES HERE\n",
        "\n",
        "# Check the structure of the model\n",
        "nn.summary()"
      ]
    },
    {
      "cell_type": "code",
      "source": [
        "# Define the model\n",
        "nn = tf.keras.models.Sequential()\n",
        "\n",
        "# First hidden layer\n",
        "nn.add(tf.keras.layers.Dense(units=80, activation='relu', input_dim=X_train_scaled.shape[1]))\n",
        "\n",
        "# Second hidden layer (you can adjust the number of units as needed)\n",
        "nn.add(tf.keras.layers.Dense(units=30, activation='relu'))\n",
        "\n",
        "# Output layer\n",
        "nn.add(tf.keras.layers.Dense(units=1, activation='sigmoid'))\n",
        "\n",
        "# Check the structure of the model\n",
        "nn.summary()\n"
      ],
      "metadata": {
        "id": "hSbfJhIo9kPK",
        "outputId": "09deff4e-20a5-4a9c-a0ce-a36989325cae",
        "colab": {
          "base_uri": "https://localhost:8080/"
        }
      },
      "execution_count": 25,
      "outputs": [
        {
          "output_type": "stream",
          "name": "stdout",
          "text": [
            "Model: \"sequential_2\"\n",
            "_________________________________________________________________\n",
            " Layer (type)                Output Shape              Param #   \n",
            "=================================================================\n",
            " dense_6 (Dense)             (None, 80)                3520      \n",
            "                                                                 \n",
            " dense_7 (Dense)             (None, 30)                2430      \n",
            "                                                                 \n",
            " dense_8 (Dense)             (None, 1)                 31        \n",
            "                                                                 \n",
            "=================================================================\n",
            "Total params: 5981 (23.36 KB)\n",
            "Trainable params: 5981 (23.36 KB)\n",
            "Non-trainable params: 0 (0.00 Byte)\n",
            "_________________________________________________________________\n"
          ]
        }
      ]
    },
    {
      "cell_type": "code",
      "execution_count": null,
      "metadata": {
        "id": "HGOBivon6n3L",
        "outputId": "0291e999-6713-4fd2-fdc0-8bf9e7b6f9c4"
      },
      "outputs": [
        {
          "name": "stdout",
          "output_type": "stream",
          "text": [
            "WARNING:tensorflow:From Z:\\Travis\\anaconda3\\lib\\site-packages\\tensorflow\\python\\ops\\nn_impl.py:180: add_dispatch_support.<locals>.wrapper (from tensorflow.python.ops.array_ops) is deprecated and will be removed in a future version.\n",
            "Instructions for updating:\n",
            "Use tf.where in 2.0, which has the same broadcast rule as np.where\n"
          ]
        }
      ],
      "source": [
        "# Compile the model\n",
        "#  YOUR CODE GOES HERE"
      ]
    },
    {
      "cell_type": "code",
      "source": [
        "# Compile the model\n",
        "nn.compile(loss='binary_crossentropy', optimizer='adam', metrics=['accuracy'])\n"
      ],
      "metadata": {
        "id": "G29CJcKq95Fa"
      },
      "execution_count": 26,
      "outputs": []
    },
    {
      "cell_type": "code",
      "execution_count": null,
      "metadata": {
        "id": "Sj9hWi3H6n3L",
        "outputId": "a0d1602e-1555-4490-a79e-6185f5165d02"
      },
      "outputs": [
        {
          "name": "stdout",
          "output_type": "stream",
          "text": [
            "Epoch 1/100\n",
            "25724/25724 [==============================] - 2s 80us/sample - loss: 0.5700 - acc: 0.7234\n",
            "Epoch 2/100\n",
            "25724/25724 [==============================] - 1s 44us/sample - loss: 0.5556 - acc: 0.7294\n",
            "Epoch 3/100\n",
            "25724/25724 [==============================] - 1s 43us/sample - loss: 0.5529 - acc: 0.7304\n",
            "Epoch 4/100\n",
            "25724/25724 [==============================] - 1s 49us/sample - loss: 0.5514 - acc: 0.7318\n",
            "Epoch 5/100\n",
            "25724/25724 [==============================] - 1s 48us/sample - loss: 0.5495 - acc: 0.7322\n",
            "Epoch 6/100\n",
            "25724/25724 [==============================] - 1s 46us/sample - loss: 0.5488 - acc: 0.7330\n",
            "Epoch 7/100\n",
            "25724/25724 [==============================] - 1s 47us/sample - loss: 0.5482 - acc: 0.7335\n",
            "Epoch 8/100\n",
            "25724/25724 [==============================] - 1s 44us/sample - loss: 0.5475 - acc: 0.7326\n",
            "Epoch 9/100\n",
            "25724/25724 [==============================] - 1s 48us/sample - loss: 0.5468 - acc: 0.73491s - lo\n",
            "Epoch 10/100\n",
            "25724/25724 [==============================] - 1s 49us/sample - loss: 0.5465 - acc: 0.7350\n",
            "Epoch 11/100\n",
            "25724/25724 [==============================] - 1s 47us/sample - loss: 0.5459 - acc: 0.7345\n",
            "Epoch 12/100\n",
            "25724/25724 [==============================] - 1s 45us/sample - loss: 0.5456 - acc: 0.7362\n",
            "Epoch 13/100\n",
            "25724/25724 [==============================] - 1s 50us/sample - loss: 0.5458 - acc: 0.7339\n",
            "Epoch 14/100\n",
            "25724/25724 [==============================] - 1s 47us/sample - loss: 0.5450 - acc: 0.7361\n",
            "Epoch 15/100\n",
            "25724/25724 [==============================] - 1s 46us/sample - loss: 0.5447 - acc: 0.7353\n",
            "Epoch 16/100\n",
            "25724/25724 [==============================] - 1s 45us/sample - loss: 0.5444 - acc: 0.7356\n",
            "Epoch 17/100\n",
            "25724/25724 [==============================] - 1s 45us/sample - loss: 0.5440 - acc: 0.7358\n",
            "Epoch 18/100\n",
            "25724/25724 [==============================] - 1s 45us/sample - loss: 0.5442 - acc: 0.7367\n",
            "Epoch 19/100\n",
            "25724/25724 [==============================] - 1s 45us/sample - loss: 0.5436 - acc: 0.7360\n",
            "Epoch 20/100\n",
            "25724/25724 [==============================] - 1s 44us/sample - loss: 0.5435 - acc: 0.7365\n",
            "Epoch 21/100\n",
            "25724/25724 [==============================] - 1s 44us/sample - loss: 0.5426 - acc: 0.7377\n",
            "Epoch 22/100\n",
            "25724/25724 [==============================] - 1s 44us/sample - loss: 0.5429 - acc: 0.7367\n",
            "Epoch 23/100\n",
            "25724/25724 [==============================] - 1s 42us/sample - loss: 0.5428 - acc: 0.7382\n",
            "Epoch 24/100\n",
            "25724/25724 [==============================] - 1s 45us/sample - loss: 0.5425 - acc: 0.7376\n",
            "Epoch 25/100\n",
            "25724/25724 [==============================] - 1s 44us/sample - loss: 0.5421 - acc: 0.7379\n",
            "Epoch 26/100\n",
            "25724/25724 [==============================] - 1s 46us/sample - loss: 0.5419 - acc: 0.7382\n",
            "Epoch 27/100\n",
            "25724/25724 [==============================] - 1s 56us/sample - loss: 0.5415 - acc: 0.7384\n",
            "Epoch 28/100\n",
            "25724/25724 [==============================] - 2s 67us/sample - loss: 0.5418 - acc: 0.7381\n",
            "Epoch 29/100\n",
            "25724/25724 [==============================] - 2s 60us/sample - loss: 0.5415 - acc: 0.7381\n",
            "Epoch 30/100\n",
            "25724/25724 [==============================] - 2s 61us/sample - loss: 0.5410 - acc: 0.7382\n",
            "Epoch 31/100\n",
            "25724/25724 [==============================] - 1s 45us/sample - loss: 0.5414 - acc: 0.7381\n",
            "Epoch 32/100\n",
            "25724/25724 [==============================] - 1s 48us/sample - loss: 0.5407 - acc: 0.7388\n",
            "Epoch 33/100\n",
            "25724/25724 [==============================] - 1s 44us/sample - loss: 0.5412 - acc: 0.7374\n",
            "Epoch 34/100\n",
            "25724/25724 [==============================] - 1s 45us/sample - loss: 0.5405 - acc: 0.7383\n",
            "Epoch 35/100\n",
            "25724/25724 [==============================] - 1s 49us/sample - loss: 0.5405 - acc: 0.7388\n",
            "Epoch 36/100\n",
            "25724/25724 [==============================] - 1s 51us/sample - loss: 0.5405 - acc: 0.7384\n",
            "Epoch 37/100\n",
            "25724/25724 [==============================] - 1s 47us/sample - loss: 0.5403 - acc: 0.7379\n",
            "Epoch 38/100\n",
            "25724/25724 [==============================] - 1s 49us/sample - loss: 0.5401 - acc: 0.7392\n",
            "Epoch 39/100\n",
            "25724/25724 [==============================] - 1s 48us/sample - loss: 0.5405 - acc: 0.7387\n",
            "Epoch 40/100\n",
            "25724/25724 [==============================] - 1s 47us/sample - loss: 0.5399 - acc: 0.7390\n",
            "Epoch 41/100\n",
            "25724/25724 [==============================] - 1s 47us/sample - loss: 0.5395 - acc: 0.7394\n",
            "Epoch 42/100\n",
            "25724/25724 [==============================] - 1s 47us/sample - loss: 0.5399 - acc: 0.7391\n",
            "Epoch 43/100\n",
            "25724/25724 [==============================] - 1s 53us/sample - loss: 0.5396 - acc: 0.7389\n",
            "Epoch 44/100\n",
            "25724/25724 [==============================] - 1s 46us/sample - loss: 0.5398 - acc: 0.7397\n",
            "Epoch 45/100\n",
            "25724/25724 [==============================] - 1s 45us/sample - loss: 0.5395 - acc: 0.7400\n",
            "Epoch 46/100\n",
            "25724/25724 [==============================] - 1s 48us/sample - loss: 0.5389 - acc: 0.7391\n",
            "Epoch 47/100\n",
            "25724/25724 [==============================] - 1s 46us/sample - loss: 0.5391 - acc: 0.7393\n",
            "Epoch 48/100\n",
            "25724/25724 [==============================] - 1s 47us/sample - loss: 0.5390 - acc: 0.7383\n",
            "Epoch 49/100\n",
            "25724/25724 [==============================] - 1s 47us/sample - loss: 0.5391 - acc: 0.7390\n",
            "Epoch 50/100\n",
            "25724/25724 [==============================] - 1s 53us/sample - loss: 0.5387 - acc: 0.7402\n",
            "Epoch 51/100\n",
            "25724/25724 [==============================] - 1s 49us/sample - loss: 0.5388 - acc: 0.7393\n",
            "Epoch 52/100\n",
            "25724/25724 [==============================] - 1s 48us/sample - loss: 0.5389 - acc: 0.7393\n",
            "Epoch 53/100\n",
            "25724/25724 [==============================] - 1s 49us/sample - loss: 0.5387 - acc: 0.7394\n",
            "Epoch 54/100\n",
            "25724/25724 [==============================] - 1s 50us/sample - loss: 0.5385 - acc: 0.7395\n",
            "Epoch 55/100\n",
            "25724/25724 [==============================] - 1s 48us/sample - loss: 0.5381 - acc: 0.7394\n",
            "Epoch 56/100\n",
            "25724/25724 [==============================] - 2s 60us/sample - loss: 0.5384 - acc: 0.7396\n",
            "Epoch 57/100\n",
            "25724/25724 [==============================] - 1s 51us/sample - loss: 0.5384 - acc: 0.7392\n",
            "Epoch 58/100\n",
            "25724/25724 [==============================] - 1s 52us/sample - loss: 0.5382 - acc: 0.7398\n",
            "Epoch 59/100\n",
            "25724/25724 [==============================] - 1s 51us/sample - loss: 0.5382 - acc: 0.7390\n",
            "Epoch 60/100\n",
            "25724/25724 [==============================] - 1s 58us/sample - loss: 0.5383 - acc: 0.7395\n",
            "Epoch 61/100\n",
            "25724/25724 [==============================] - 1s 48us/sample - loss: 0.5380 - acc: 0.7393\n",
            "Epoch 62/100\n",
            "25724/25724 [==============================] - 1s 54us/sample - loss: 0.5386 - acc: 0.7395\n",
            "Epoch 63/100\n",
            "25724/25724 [==============================] - 1s 53us/sample - loss: 0.5379 - acc: 0.7397\n",
            "Epoch 64/100\n",
            "25724/25724 [==============================] - 1s 54us/sample - loss: 0.5383 - acc: 0.7414\n",
            "Epoch 65/100\n",
            "25724/25724 [==============================] - 1s 57us/sample - loss: 0.5376 - acc: 0.74031s \n",
            "Epoch 66/100\n",
            "25724/25724 [==============================] - 1s 55us/sample - loss: 0.5378 - acc: 0.7407\n",
            "Epoch 67/100\n",
            "25724/25724 [==============================] - 2s 60us/sample - loss: 0.5378 - acc: 0.7402\n",
            "Epoch 68/100\n",
            "25724/25724 [==============================] - 2s 68us/sample - loss: 0.5374 - acc: 0.7403\n",
            "Epoch 69/100\n",
            "25724/25724 [==============================] - 1s 55us/sample - loss: 0.5376 - acc: 0.7400\n",
            "Epoch 70/100\n",
            "25724/25724 [==============================] - 1s 51us/sample - loss: 0.5377 - acc: 0.7404\n",
            "Epoch 71/100\n",
            "25724/25724 [==============================] - 1s 53us/sample - loss: 0.5377 - acc: 0.7402\n",
            "Epoch 72/100\n",
            "25724/25724 [==============================] - 2s 61us/sample - loss: 0.5374 - acc: 0.7403\n",
            "Epoch 73/100\n",
            "25724/25724 [==============================] - 1s 58us/sample - loss: 0.5375 - acc: 0.7400\n",
            "Epoch 74/100\n",
            "25724/25724 [==============================] - 2s 63us/sample - loss: 0.5373 - acc: 0.7407\n",
            "Epoch 75/100\n",
            "25724/25724 [==============================] - 2s 72us/sample - loss: 0.5371 - acc: 0.7402\n",
            "Epoch 76/100\n",
            "25724/25724 [==============================] - 2s 66us/sample - loss: 0.5372 - acc: 0.7404\n",
            "Epoch 77/100\n",
            "25724/25724 [==============================] - 2s 63us/sample - loss: 0.5372 - acc: 0.7399\n",
            "Epoch 78/100\n",
            "25724/25724 [==============================] - 1s 51us/sample - loss: 0.5378 - acc: 0.7409\n",
            "Epoch 79/100\n",
            "25724/25724 [==============================] - 2s 70us/sample - loss: 0.5370 - acc: 0.7410\n",
            "Epoch 80/100\n",
            "25724/25724 [==============================] - 1s 46us/sample - loss: 0.5371 - acc: 0.7402\n",
            "Epoch 81/100\n",
            "25724/25724 [==============================] - 1s 48us/sample - loss: 0.5368 - acc: 0.7414\n",
            "Epoch 82/100\n",
            "25724/25724 [==============================] - 1s 46us/sample - loss: 0.5366 - acc: 0.7413\n",
            "Epoch 83/100\n",
            "25724/25724 [==============================] - 1s 48us/sample - loss: 0.5368 - acc: 0.7405\n",
            "Epoch 84/100\n",
            "25724/25724 [==============================] - 2s 65us/sample - loss: 0.5367 - acc: 0.7407\n",
            "Epoch 85/100\n",
            "25724/25724 [==============================] - 2s 64us/sample - loss: 0.5368 - acc: 0.7404\n",
            "Epoch 86/100\n",
            "25724/25724 [==============================] - 2s 69us/sample - loss: 0.5365 - acc: 0.7408\n",
            "Epoch 87/100\n",
            "25724/25724 [==============================] - 1s 53us/sample - loss: 0.5371 - acc: 0.7407\n",
            "Epoch 88/100\n",
            "25724/25724 [==============================] - 1s 57us/sample - loss: 0.5367 - acc: 0.7410\n",
            "Epoch 89/100\n",
            "25724/25724 [==============================] - 1s 48us/sample - loss: 0.5366 - acc: 0.7409\n",
            "Epoch 90/100\n",
            "25724/25724 [==============================] - 1s 48us/sample - loss: 0.5365 - acc: 0.7409\n",
            "Epoch 91/100\n",
            "25724/25724 [==============================] - 1s 48us/sample - loss: 0.5360 - acc: 0.7414\n",
            "Epoch 92/100\n",
            "25724/25724 [==============================] - 1s 50us/sample - loss: 0.5370 - acc: 0.7406\n",
            "Epoch 93/100\n",
            "25724/25724 [==============================] - 1s 46us/sample - loss: 0.5365 - acc: 0.7411\n",
            "Epoch 94/100\n",
            "25724/25724 [==============================] - 1s 50us/sample - loss: 0.5366 - acc: 0.7409\n",
            "Epoch 95/100\n",
            "25724/25724 [==============================] - 1s 56us/sample - loss: 0.5362 - acc: 0.7411\n",
            "Epoch 96/100\n",
            "25724/25724 [==============================] - 1s 50us/sample - loss: 0.5361 - acc: 0.7404\n",
            "Epoch 97/100\n",
            "25724/25724 [==============================] - 1s 54us/sample - loss: 0.5361 - acc: 0.74130s - loss: 0.5380 - \n",
            "Epoch 98/100\n",
            "25724/25724 [==============================] - 2s 64us/sample - loss: 0.5365 - acc: 0.7407\n",
            "Epoch 99/100\n",
            "25724/25724 [==============================] - 2s 80us/sample - loss: 0.5360 - acc: 0.7396\n",
            "Epoch 100/100\n",
            "25724/25724 [==============================] - 2s 64us/sample - loss: 0.5360 - acc: 0.7416\n"
          ]
        }
      ],
      "source": [
        "# Train the model\n",
        "#  YOUR CODE GOES HERE"
      ]
    },
    {
      "cell_type": "code",
      "source": [
        "# Train the model\n",
        "history = nn.fit(X_train_scaled, y_train, epochs=100, batch_size=32, validation_data=(X_test_scaled, y_test))\n"
      ],
      "metadata": {
        "id": "aRl2JFeH-BgU",
        "outputId": "74cfe189-214e-4153-d41e-c631c6cd8df6",
        "colab": {
          "base_uri": "https://localhost:8080/"
        }
      },
      "execution_count": 28,
      "outputs": [
        {
          "output_type": "stream",
          "name": "stdout",
          "text": [
            "Epoch 1/100\n",
            "804/804 [==============================] - 2s 3ms/step - loss: 0.5505 - accuracy: 0.7328 - val_loss: 0.5596 - val_accuracy: 0.7250\n",
            "Epoch 2/100\n",
            "804/804 [==============================] - 3s 3ms/step - loss: 0.5490 - accuracy: 0.7334 - val_loss: 0.5576 - val_accuracy: 0.7240\n",
            "Epoch 3/100\n",
            "804/804 [==============================] - 3s 4ms/step - loss: 0.5476 - accuracy: 0.7342 - val_loss: 0.5566 - val_accuracy: 0.7194\n",
            "Epoch 4/100\n",
            "804/804 [==============================] - 2s 3ms/step - loss: 0.5470 - accuracy: 0.7346 - val_loss: 0.5558 - val_accuracy: 0.7185\n",
            "Epoch 5/100\n",
            "804/804 [==============================] - 2s 3ms/step - loss: 0.5463 - accuracy: 0.7357 - val_loss: 0.5572 - val_accuracy: 0.7245\n",
            "Epoch 6/100\n",
            "804/804 [==============================] - 2s 3ms/step - loss: 0.5461 - accuracy: 0.7345 - val_loss: 0.5577 - val_accuracy: 0.7254\n",
            "Epoch 7/100\n",
            "804/804 [==============================] - 2s 3ms/step - loss: 0.5457 - accuracy: 0.7353 - val_loss: 0.5565 - val_accuracy: 0.7237\n",
            "Epoch 8/100\n",
            "804/804 [==============================] - 3s 3ms/step - loss: 0.5446 - accuracy: 0.7359 - val_loss: 0.5583 - val_accuracy: 0.7221\n",
            "Epoch 9/100\n",
            "804/804 [==============================] - 3s 4ms/step - loss: 0.5443 - accuracy: 0.7364 - val_loss: 0.5571 - val_accuracy: 0.7238\n",
            "Epoch 10/100\n",
            "804/804 [==============================] - 2s 3ms/step - loss: 0.5441 - accuracy: 0.7352 - val_loss: 0.5542 - val_accuracy: 0.7250\n",
            "Epoch 11/100\n",
            "804/804 [==============================] - 2s 3ms/step - loss: 0.5431 - accuracy: 0.7382 - val_loss: 0.5563 - val_accuracy: 0.7249\n",
            "Epoch 12/100\n",
            "804/804 [==============================] - 2s 3ms/step - loss: 0.5432 - accuracy: 0.7365 - val_loss: 0.5555 - val_accuracy: 0.7229\n",
            "Epoch 13/100\n",
            "804/804 [==============================] - 3s 3ms/step - loss: 0.5434 - accuracy: 0.7367 - val_loss: 0.5555 - val_accuracy: 0.7247\n",
            "Epoch 14/100\n",
            "804/804 [==============================] - 3s 4ms/step - loss: 0.5427 - accuracy: 0.7367 - val_loss: 0.5545 - val_accuracy: 0.7242\n",
            "Epoch 15/100\n",
            "804/804 [==============================] - 3s 3ms/step - loss: 0.5421 - accuracy: 0.7372 - val_loss: 0.5573 - val_accuracy: 0.7241\n",
            "Epoch 16/100\n",
            "804/804 [==============================] - 2s 3ms/step - loss: 0.5423 - accuracy: 0.7376 - val_loss: 0.5550 - val_accuracy: 0.7228\n",
            "Epoch 17/100\n",
            "804/804 [==============================] - 2s 3ms/step - loss: 0.5419 - accuracy: 0.7380 - val_loss: 0.5560 - val_accuracy: 0.7228\n",
            "Epoch 18/100\n",
            "804/804 [==============================] - 2s 3ms/step - loss: 0.5416 - accuracy: 0.7378 - val_loss: 0.5537 - val_accuracy: 0.7252\n",
            "Epoch 19/100\n",
            "804/804 [==============================] - 2s 3ms/step - loss: 0.5415 - accuracy: 0.7386 - val_loss: 0.5585 - val_accuracy: 0.7231\n",
            "Epoch 20/100\n",
            "804/804 [==============================] - 3s 4ms/step - loss: 0.5407 - accuracy: 0.7375 - val_loss: 0.5547 - val_accuracy: 0.7242\n",
            "Epoch 21/100\n",
            "804/804 [==============================] - 3s 3ms/step - loss: 0.5407 - accuracy: 0.7376 - val_loss: 0.5562 - val_accuracy: 0.7258\n",
            "Epoch 22/100\n",
            "804/804 [==============================] - 2s 3ms/step - loss: 0.5403 - accuracy: 0.7382 - val_loss: 0.5583 - val_accuracy: 0.7241\n",
            "Epoch 23/100\n",
            "804/804 [==============================] - 2s 3ms/step - loss: 0.5404 - accuracy: 0.7390 - val_loss: 0.5572 - val_accuracy: 0.7248\n",
            "Epoch 24/100\n",
            "804/804 [==============================] - 2s 3ms/step - loss: 0.5402 - accuracy: 0.7386 - val_loss: 0.5587 - val_accuracy: 0.7252\n",
            "Epoch 25/100\n",
            "804/804 [==============================] - 2s 3ms/step - loss: 0.5399 - accuracy: 0.7389 - val_loss: 0.5563 - val_accuracy: 0.7241\n",
            "Epoch 26/100\n",
            "804/804 [==============================] - 3s 4ms/step - loss: 0.5401 - accuracy: 0.7382 - val_loss: 0.5556 - val_accuracy: 0.7257\n",
            "Epoch 27/100\n",
            "804/804 [==============================] - 2s 3ms/step - loss: 0.5400 - accuracy: 0.7395 - val_loss: 0.5545 - val_accuracy: 0.7244\n",
            "Epoch 28/100\n",
            "804/804 [==============================] - 2s 3ms/step - loss: 0.5399 - accuracy: 0.7395 - val_loss: 0.5555 - val_accuracy: 0.7269\n",
            "Epoch 29/100\n",
            "804/804 [==============================] - 2s 3ms/step - loss: 0.5395 - accuracy: 0.7390 - val_loss: 0.5551 - val_accuracy: 0.7242\n",
            "Epoch 30/100\n",
            "804/804 [==============================] - 2s 3ms/step - loss: 0.5394 - accuracy: 0.7389 - val_loss: 0.5566 - val_accuracy: 0.7252\n",
            "Epoch 31/100\n",
            "804/804 [==============================] - 3s 3ms/step - loss: 0.5394 - accuracy: 0.7389 - val_loss: 0.5537 - val_accuracy: 0.7241\n",
            "Epoch 32/100\n",
            "804/804 [==============================] - 3s 4ms/step - loss: 0.5390 - accuracy: 0.7385 - val_loss: 0.5575 - val_accuracy: 0.7234\n",
            "Epoch 33/100\n",
            "804/804 [==============================] - 2s 3ms/step - loss: 0.5393 - accuracy: 0.7390 - val_loss: 0.5559 - val_accuracy: 0.7254\n",
            "Epoch 34/100\n",
            "804/804 [==============================] - 2s 3ms/step - loss: 0.5386 - accuracy: 0.7393 - val_loss: 0.5565 - val_accuracy: 0.7243\n",
            "Epoch 35/100\n",
            "804/804 [==============================] - 2s 3ms/step - loss: 0.5386 - accuracy: 0.7388 - val_loss: 0.5552 - val_accuracy: 0.7254\n",
            "Epoch 36/100\n",
            "804/804 [==============================] - 2s 3ms/step - loss: 0.5384 - accuracy: 0.7390 - val_loss: 0.5552 - val_accuracy: 0.7236\n",
            "Epoch 37/100\n",
            "804/804 [==============================] - 3s 3ms/step - loss: 0.5389 - accuracy: 0.7397 - val_loss: 0.5548 - val_accuracy: 0.7230\n",
            "Epoch 38/100\n",
            "804/804 [==============================] - 3s 4ms/step - loss: 0.5382 - accuracy: 0.7393 - val_loss: 0.5567 - val_accuracy: 0.7238\n",
            "Epoch 39/100\n",
            "804/804 [==============================] - 2s 3ms/step - loss: 0.5381 - accuracy: 0.7406 - val_loss: 0.5569 - val_accuracy: 0.7244\n",
            "Epoch 40/100\n",
            "804/804 [==============================] - 2s 3ms/step - loss: 0.5381 - accuracy: 0.7402 - val_loss: 0.5582 - val_accuracy: 0.7235\n",
            "Epoch 41/100\n",
            "804/804 [==============================] - 2s 3ms/step - loss: 0.5380 - accuracy: 0.7397 - val_loss: 0.5565 - val_accuracy: 0.7250\n",
            "Epoch 42/100\n",
            "804/804 [==============================] - 2s 2ms/step - loss: 0.5381 - accuracy: 0.7394 - val_loss: 0.5562 - val_accuracy: 0.7250\n",
            "Epoch 43/100\n",
            "804/804 [==============================] - 3s 3ms/step - loss: 0.5370 - accuracy: 0.7397 - val_loss: 0.5558 - val_accuracy: 0.7243\n",
            "Epoch 44/100\n",
            "804/804 [==============================] - 3s 4ms/step - loss: 0.5379 - accuracy: 0.7405 - val_loss: 0.5572 - val_accuracy: 0.7242\n",
            "Epoch 45/100\n",
            "804/804 [==============================] - 2s 2ms/step - loss: 0.5371 - accuracy: 0.7400 - val_loss: 0.5564 - val_accuracy: 0.7236\n",
            "Epoch 46/100\n",
            "804/804 [==============================] - 2s 3ms/step - loss: 0.5372 - accuracy: 0.7396 - val_loss: 0.5572 - val_accuracy: 0.7263\n",
            "Epoch 47/100\n",
            "804/804 [==============================] - 2s 3ms/step - loss: 0.5376 - accuracy: 0.7400 - val_loss: 0.5565 - val_accuracy: 0.7249\n",
            "Epoch 48/100\n",
            "804/804 [==============================] - 2s 3ms/step - loss: 0.5369 - accuracy: 0.7398 - val_loss: 0.5577 - val_accuracy: 0.7236\n",
            "Epoch 49/100\n",
            "804/804 [==============================] - 2s 3ms/step - loss: 0.5370 - accuracy: 0.7413 - val_loss: 0.5595 - val_accuracy: 0.7236\n",
            "Epoch 50/100\n",
            "804/804 [==============================] - 3s 4ms/step - loss: 0.5368 - accuracy: 0.7402 - val_loss: 0.5578 - val_accuracy: 0.7254\n",
            "Epoch 51/100\n",
            "804/804 [==============================] - 2s 3ms/step - loss: 0.5370 - accuracy: 0.7409 - val_loss: 0.5570 - val_accuracy: 0.7244\n",
            "Epoch 52/100\n",
            "804/804 [==============================] - 2s 3ms/step - loss: 0.5367 - accuracy: 0.7397 - val_loss: 0.5586 - val_accuracy: 0.7241\n",
            "Epoch 53/100\n",
            "804/804 [==============================] - 2s 3ms/step - loss: 0.5366 - accuracy: 0.7409 - val_loss: 0.5572 - val_accuracy: 0.7257\n",
            "Epoch 54/100\n",
            "804/804 [==============================] - 2s 3ms/step - loss: 0.5364 - accuracy: 0.7403 - val_loss: 0.5584 - val_accuracy: 0.7245\n",
            "Epoch 55/100\n",
            "804/804 [==============================] - 2s 3ms/step - loss: 0.5363 - accuracy: 0.7402 - val_loss: 0.5580 - val_accuracy: 0.7252\n",
            "Epoch 56/100\n",
            "804/804 [==============================] - 3s 4ms/step - loss: 0.5363 - accuracy: 0.7398 - val_loss: 0.5597 - val_accuracy: 0.7248\n",
            "Epoch 57/100\n",
            "804/804 [==============================] - 2s 3ms/step - loss: 0.5364 - accuracy: 0.7399 - val_loss: 0.5587 - val_accuracy: 0.7250\n",
            "Epoch 58/100\n",
            "804/804 [==============================] - 2s 3ms/step - loss: 0.5364 - accuracy: 0.7407 - val_loss: 0.5611 - val_accuracy: 0.7227\n",
            "Epoch 59/100\n",
            "804/804 [==============================] - 2s 3ms/step - loss: 0.5362 - accuracy: 0.7406 - val_loss: 0.5590 - val_accuracy: 0.7251\n",
            "Epoch 60/100\n",
            "804/804 [==============================] - 2s 3ms/step - loss: 0.5361 - accuracy: 0.7402 - val_loss: 0.5604 - val_accuracy: 0.7254\n",
            "Epoch 61/100\n",
            "804/804 [==============================] - 2s 3ms/step - loss: 0.5362 - accuracy: 0.7407 - val_loss: 0.5593 - val_accuracy: 0.7255\n",
            "Epoch 62/100\n",
            "804/804 [==============================] - 4s 5ms/step - loss: 0.5361 - accuracy: 0.7408 - val_loss: 0.5596 - val_accuracy: 0.7252\n",
            "Epoch 63/100\n",
            "804/804 [==============================] - 2s 3ms/step - loss: 0.5359 - accuracy: 0.7405 - val_loss: 0.5603 - val_accuracy: 0.7247\n",
            "Epoch 64/100\n",
            "804/804 [==============================] - 2s 3ms/step - loss: 0.5358 - accuracy: 0.7410 - val_loss: 0.5579 - val_accuracy: 0.7251\n",
            "Epoch 65/100\n",
            "804/804 [==============================] - 2s 3ms/step - loss: 0.5358 - accuracy: 0.7409 - val_loss: 0.5606 - val_accuracy: 0.7263\n",
            "Epoch 66/100\n",
            "804/804 [==============================] - 2s 3ms/step - loss: 0.5357 - accuracy: 0.7407 - val_loss: 0.5587 - val_accuracy: 0.7250\n",
            "Epoch 67/100\n",
            "804/804 [==============================] - 3s 4ms/step - loss: 0.5355 - accuracy: 0.7407 - val_loss: 0.5585 - val_accuracy: 0.7255\n",
            "Epoch 68/100\n",
            "804/804 [==============================] - 3s 4ms/step - loss: 0.5354 - accuracy: 0.7405 - val_loss: 0.5581 - val_accuracy: 0.7251\n",
            "Epoch 69/100\n",
            "804/804 [==============================] - 2s 3ms/step - loss: 0.5353 - accuracy: 0.7405 - val_loss: 0.5615 - val_accuracy: 0.7251\n",
            "Epoch 70/100\n",
            "804/804 [==============================] - 2s 3ms/step - loss: 0.5353 - accuracy: 0.7412 - val_loss: 0.5601 - val_accuracy: 0.7243\n",
            "Epoch 71/100\n",
            "804/804 [==============================] - 2s 3ms/step - loss: 0.5358 - accuracy: 0.7408 - val_loss: 0.5587 - val_accuracy: 0.7244\n",
            "Epoch 72/100\n",
            "804/804 [==============================] - 2s 3ms/step - loss: 0.5353 - accuracy: 0.7401 - val_loss: 0.5598 - val_accuracy: 0.7237\n",
            "Epoch 73/100\n",
            "804/804 [==============================] - 3s 4ms/step - loss: 0.5353 - accuracy: 0.7408 - val_loss: 0.5585 - val_accuracy: 0.7256\n",
            "Epoch 74/100\n",
            "804/804 [==============================] - 3s 4ms/step - loss: 0.5352 - accuracy: 0.7404 - val_loss: 0.5620 - val_accuracy: 0.7241\n",
            "Epoch 75/100\n",
            "804/804 [==============================] - 2s 3ms/step - loss: 0.5353 - accuracy: 0.7408 - val_loss: 0.5596 - val_accuracy: 0.7250\n",
            "Epoch 76/100\n",
            "804/804 [==============================] - 2s 3ms/step - loss: 0.5352 - accuracy: 0.7415 - val_loss: 0.5621 - val_accuracy: 0.7249\n",
            "Epoch 77/100\n",
            "804/804 [==============================] - 2s 3ms/step - loss: 0.5350 - accuracy: 0.7401 - val_loss: 0.5609 - val_accuracy: 0.7243\n",
            "Epoch 78/100\n",
            "804/804 [==============================] - 2s 3ms/step - loss: 0.5347 - accuracy: 0.7409 - val_loss: 0.5617 - val_accuracy: 0.7238\n",
            "Epoch 79/100\n",
            "804/804 [==============================] - 4s 5ms/step - loss: 0.5347 - accuracy: 0.7406 - val_loss: 0.5596 - val_accuracy: 0.7256\n",
            "Epoch 80/100\n",
            "804/804 [==============================] - 2s 3ms/step - loss: 0.5350 - accuracy: 0.7411 - val_loss: 0.5610 - val_accuracy: 0.7254\n",
            "Epoch 81/100\n",
            "804/804 [==============================] - 2s 3ms/step - loss: 0.5349 - accuracy: 0.7410 - val_loss: 0.5612 - val_accuracy: 0.7254\n",
            "Epoch 82/100\n",
            "804/804 [==============================] - 2s 3ms/step - loss: 0.5350 - accuracy: 0.7407 - val_loss: 0.5606 - val_accuracy: 0.7242\n",
            "Epoch 83/100\n",
            "804/804 [==============================] - 2s 3ms/step - loss: 0.5348 - accuracy: 0.7410 - val_loss: 0.5610 - val_accuracy: 0.7254\n",
            "Epoch 84/100\n",
            "804/804 [==============================] - 3s 4ms/step - loss: 0.5346 - accuracy: 0.7406 - val_loss: 0.5610 - val_accuracy: 0.7261\n",
            "Epoch 85/100\n",
            "804/804 [==============================] - 3s 4ms/step - loss: 0.5350 - accuracy: 0.7411 - val_loss: 0.5629 - val_accuracy: 0.7247\n",
            "Epoch 86/100\n",
            "804/804 [==============================] - 2s 3ms/step - loss: 0.5343 - accuracy: 0.7412 - val_loss: 0.5615 - val_accuracy: 0.7248\n",
            "Epoch 87/100\n",
            "804/804 [==============================] - 2s 3ms/step - loss: 0.5347 - accuracy: 0.7411 - val_loss: 0.5602 - val_accuracy: 0.7251\n",
            "Epoch 88/100\n",
            "804/804 [==============================] - 2s 3ms/step - loss: 0.5346 - accuracy: 0.7412 - val_loss: 0.5622 - val_accuracy: 0.7241\n",
            "Epoch 89/100\n",
            "804/804 [==============================] - 2s 3ms/step - loss: 0.5347 - accuracy: 0.7413 - val_loss: 0.5624 - val_accuracy: 0.7247\n",
            "Epoch 90/100\n",
            "804/804 [==============================] - 3s 4ms/step - loss: 0.5344 - accuracy: 0.7410 - val_loss: 0.5608 - val_accuracy: 0.7257\n",
            "Epoch 91/100\n",
            "804/804 [==============================] - 3s 4ms/step - loss: 0.5345 - accuracy: 0.7414 - val_loss: 0.5634 - val_accuracy: 0.7230\n",
            "Epoch 92/100\n",
            "804/804 [==============================] - 2s 2ms/step - loss: 0.5345 - accuracy: 0.7407 - val_loss: 0.5637 - val_accuracy: 0.7208\n",
            "Epoch 93/100\n",
            "804/804 [==============================] - 2s 3ms/step - loss: 0.5341 - accuracy: 0.7410 - val_loss: 0.5628 - val_accuracy: 0.7249\n",
            "Epoch 94/100\n",
            "804/804 [==============================] - 2s 3ms/step - loss: 0.5341 - accuracy: 0.7416 - val_loss: 0.5621 - val_accuracy: 0.7241\n",
            "Epoch 95/100\n",
            "804/804 [==============================] - 2s 3ms/step - loss: 0.5344 - accuracy: 0.7395 - val_loss: 0.5621 - val_accuracy: 0.7254\n",
            "Epoch 96/100\n",
            "804/804 [==============================] - 3s 4ms/step - loss: 0.5345 - accuracy: 0.7408 - val_loss: 0.5621 - val_accuracy: 0.7234\n",
            "Epoch 97/100\n",
            "804/804 [==============================] - 3s 4ms/step - loss: 0.5342 - accuracy: 0.7413 - val_loss: 0.5627 - val_accuracy: 0.7250\n",
            "Epoch 98/100\n",
            "804/804 [==============================] - 2s 3ms/step - loss: 0.5339 - accuracy: 0.7417 - val_loss: 0.5609 - val_accuracy: 0.7252\n",
            "Epoch 99/100\n",
            "804/804 [==============================] - 2s 3ms/step - loss: 0.5343 - accuracy: 0.7416 - val_loss: 0.5615 - val_accuracy: 0.7252\n",
            "Epoch 100/100\n",
            "804/804 [==============================] - 2s 3ms/step - loss: 0.5342 - accuracy: 0.7417 - val_loss: 0.5613 - val_accuracy: 0.7261\n"
          ]
        }
      ]
    },
    {
      "cell_type": "code",
      "execution_count": 29,
      "metadata": {
        "id": "gxV8qzRX6n3M",
        "outputId": "61a30566-d63a-40b4-f4a2-f5a62d974b57",
        "colab": {
          "base_uri": "https://localhost:8080/"
        }
      },
      "outputs": [
        {
          "output_type": "stream",
          "name": "stdout",
          "text": [
            "268/268 - 0s - loss: 0.5613 - accuracy: 0.7261 - 383ms/epoch - 1ms/step\n",
            "Loss: 0.5613272786140442, Accuracy: 0.726064145565033\n"
          ]
        }
      ],
      "source": [
        "# Evaluate the model using the test data\n",
        "model_loss, model_accuracy = nn.evaluate(X_test_scaled,y_test,verbose=2)\n",
        "print(f\"Loss: {model_loss}, Accuracy: {model_accuracy}\")"
      ]
    },
    {
      "cell_type": "code",
      "execution_count": 32,
      "metadata": {
        "id": "0o1mrCkU6n3M"
      },
      "outputs": [],
      "source": [
        "# Export our model to HDF5 file\n",
        "nn.save(\"AlphabetSoupCharity.h5\")"
      ]
    }
  ],
  "metadata": {
    "kernelspec": {
      "display_name": "Python 3 (ipykernel)",
      "language": "python",
      "name": "python3"
    },
    "language_info": {
      "codemirror_mode": {
        "name": "ipython",
        "version": 3
      },
      "file_extension": ".py",
      "mimetype": "text/x-python",
      "name": "python",
      "nbconvert_exporter": "python",
      "pygments_lexer": "ipython3",
      "version": "3.10.4"
    },
    "vscode": {
      "interpreter": {
        "hash": "31f2aee4e71d21fbe5cf8b01ff0e069b9275f58929596ceb00d14d90e3e16cd6"
      }
    },
    "colab": {
      "provenance": []
    }
  },
  "nbformat": 4,
  "nbformat_minor": 0
}